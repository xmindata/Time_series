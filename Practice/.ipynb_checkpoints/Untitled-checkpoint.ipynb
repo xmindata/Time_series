{
 "cells": [
  {
   "cell_type": "markdown",
   "metadata": {},
   "source": [
    "# Time Series Analysis\n",
    "\n",
    "This is another tutorial from [Machine Learning Mastery](http://machinelearningmastery.com/time-series-forecast-study-python-monthly-sales-french-champagne/)\n",
    "\n",
    "**The steps of this project that we will through are as follows.**\n",
    "\n",
    "- Environment.\n",
    "- Problem Description.\n",
    "- Test Harness.\n",
    "- Persistence.\n",
    "- Data Analysis.\n",
    "- ARIMA Models.\n",
    "- Model Validation."
   ]
  },
  {
   "cell_type": "markdown",
   "metadata": {},
   "source": [
    "## Problem Description"
   ]
  },
  {
   "cell_type": "markdown",
   "metadata": {},
   "source": [
    "The problem is to predict the number of monthly sales of champagne for the Perrin Freres label (named for a region in France).\n",
    "The dataset provides the number of monthly sales of champagne from January 1964 to September 1972, or just under 10 years of data.\n",
    "The values are a count of millions of sales and there are 105 observations.\n",
    "The dataset is credited to Makridakis and Wheelwright, 1989.\n",
    "\n",
    "The final year of data will be used to validate the final model."
   ]
  },
  {
   "cell_type": "code",
   "execution_count": 5,
   "metadata": {},
   "outputs": [
    {
     "data": {
      "text/plain": [
       "Month\n",
       "1964-01-01    2815\n",
       "1964-02-01    2672\n",
       "1964-03-01    2755\n",
       "1964-04-01    2721\n",
       "1964-05-01    2946\n",
       "Name: Perrin Freres monthly champagne sales millions ?64-?72, dtype: int64"
      ]
     },
     "execution_count": 5,
     "metadata": {},
     "output_type": "execute_result"
    }
   ],
   "source": [
    "from pandas import Series\n",
    "series = Series.from_csv('data/champagne.csv', header=0)\n",
    "series.head(5)"
   ]
  },
  {
   "cell_type": "code",
   "execution_count": 6,
   "metadata": {},
   "outputs": [
    {
     "name": "stdout",
     "output_type": "stream",
     "text": [
      "Dataset 93, Validation 12\n"
     ]
    }
   ],
   "source": [
    "split_point = len(series) - 12\n",
    "dataset, validation = series[0:split_point], series[split_point:]\n",
    "print('Dataset %d, Validation %d' % (len(dataset), len(validation)))\n",
    "dataset.to_csv('dataset.csv')\n",
    "validation.to_csv('validation.csv')"
   ]
  },
  {
   "cell_type": "markdown",
   "metadata": {},
   "source": [
    "- dataset.csv: Observations from January 1964 to September 1971 (93 observations)\n",
    "- validation.csv: Observations from October 1971 to September 1972 (12 observations)"
   ]
  },
  {
   "cell_type": "code",
   "execution_count": null,
   "metadata": {
    "collapsed": true
   },
   "outputs": [],
   "source": []
  }
 ],
 "metadata": {
  "kernelspec": {
   "display_name": "Python 3",
   "language": "python",
   "name": "python3"
  },
  "language_info": {
   "codemirror_mode": {
    "name": "ipython",
    "version": 3
   },
   "file_extension": ".py",
   "mimetype": "text/x-python",
   "name": "python",
   "nbconvert_exporter": "python",
   "pygments_lexer": "ipython3",
   "version": "3.6.1"
  }
 },
 "nbformat": 4,
 "nbformat_minor": 2
}
